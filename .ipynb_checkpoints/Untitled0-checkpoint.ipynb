{
 "metadata": {
  "name": "",
  "signature": "sha256:27a9a39cbec1f16062727ea2bd405093d423a22868040b75c5e0eec68856af3b"
 },
 "nbformat": 3,
 "nbformat_minor": 0,
 "worksheets": []
}