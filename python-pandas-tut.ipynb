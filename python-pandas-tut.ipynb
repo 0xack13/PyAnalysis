{
 "metadata": {
  "name": "",
  "signature": "sha256:f3c7494c5c0a05ec14628add4cea1e957c0c56c147228a70bded375e462cd429"
 },
 "nbformat": 3,
 "nbformat_minor": 0,
 "worksheets": [
  {
   "cells": [
    {
     "cell_type": "code",
     "collapsed": false,
     "input": [
      "import pandas as pd\n",
      "from numpy.random import seed\n",
      "from numpy.random import rand\n",
      "from numpy.random import random_integers\n",
      "import numpy as np\n",
      "\n",
      "seed(42)\n",
      "\n",
      "df = pd.DataFrame({'Weather' : ['cold', 'hot', 'cold', 'hot',\n",
      "   'cold', 'hot', 'cold'],\n",
      "   'Food' : ['soup', 'soup', 'icecream', 'chocolate',\n",
      "   'icecream', 'icecream', 'soup'],\n",
      "   'Price' : 10 * rand(7), 'Number' : random_integers(1, 9, size=(7,))})\n",
      "\n",
      "print df"
     ],
     "language": "python",
     "metadata": {},
     "outputs": [
      {
       "output_type": "stream",
       "stream": "stdout",
       "text": [
        "        Food  Number     Price Weather\n",
        "0       soup       8  3.745401    cold\n",
        "1       soup       5  9.507143     hot\n",
        "2   icecream       4  7.319939    cold\n",
        "3  chocolate       8  5.986585     hot\n",
        "4   icecream       8  1.560186    cold\n",
        "5   icecream       3  1.559945     hot\n",
        "6       soup       6  0.580836    cold\n"
       ]
      }
     ],
     "prompt_number": 2
    },
    {
     "cell_type": "code",
     "collapsed": false,
     "input": [
      "weather_group = df.groupby('Weather')\n",
      "\n",
      "i = 0\n",
      "\n",
      "for name, group in weather_group:\n",
      "   i = i + 1\n",
      "   print \"Group\", i, name\n",
      "   print group"
     ],
     "language": "python",
     "metadata": {},
     "outputs": [
      {
       "output_type": "stream",
       "stream": "stdout",
       "text": [
        "Group 1 cold\n",
        "       Food  Number     Price Weather\n",
        "0      soup       8  3.745401    cold\n",
        "2  icecream       4  7.319939    cold\n",
        "4  icecream       8  1.560186    cold\n",
        "6      soup       6  0.580836    cold\n",
        "Group 2 hot\n",
        "        Food  Number     Price Weather\n",
        "1       soup       5  9.507143     hot\n",
        "3  chocolate       8  5.986585     hot\n",
        "5   icecream       3  1.559945     hot\n"
       ]
      }
     ],
     "prompt_number": 3
    },
    {
     "cell_type": "code",
     "collapsed": false,
     "input": [
      "print \"Weather group first\\n\", weather_group.first()\n",
      "print \"Weather group last\\n\", weather_group.last()\n",
      "print \"Weather group mean\\n\", weather_group.mean()"
     ],
     "language": "python",
     "metadata": {},
     "outputs": [
      {
       "output_type": "stream",
       "stream": "stdout",
       "text": [
        "Weather group first\n",
        "         Food  Number     Price\n",
        "Weather                        \n",
        "cold     soup       8  3.745401\n",
        "hot      soup       5  9.507143\n",
        "Weather group last\n",
        "             Food  Number     Price\n",
        "Weather                            \n",
        "cold         soup       6  0.580836\n",
        "hot      icecream       3  1.559945\n",
        "Weather group mean\n",
        "           Number     Price\n",
        "Weather                    \n",
        "cold     6.500000  3.301591\n",
        "hot      5.333333  5.684558\n"
       ]
      }
     ],
     "prompt_number": 4
    },
    {
     "cell_type": "code",
     "collapsed": false,
     "input": [
      "wf_group = df.groupby(['Weather', 'Food'])\n",
      "print \"WF Groups\", wf_group.groups"
     ],
     "language": "python",
     "metadata": {},
     "outputs": [
      {
       "output_type": "stream",
       "stream": "stdout",
       "text": [
        "WF Groups {('hot', 'chocolate'): [3], ('cold', 'icecream'): [2, 4], ('hot', 'icecream'): [5], ('hot', 'soup'): [1], ('cold', 'soup'): [0, 6]}\n"
       ]
      }
     ],
     "prompt_number": 5
    },
    {
     "cell_type": "code",
     "collapsed": false,
     "input": [
      "print \"WF Aggregated\\n\", wf_group.agg([np.mean, np.median])\n"
     ],
     "language": "python",
     "metadata": {},
     "outputs": [
      {
       "output_type": "stream",
       "stream": "stdout",
       "text": [
        "WF Aggregated\n",
        "                   Number             Price          \n",
        "                     mean  median      mean    median\n",
        "Weather Food                                         \n",
        "cold    icecream        6       6  4.440063  4.440063\n",
        "        soup            7       7  2.163119  2.163119\n",
        "hot     chocolate       8       8  5.986585  5.986585\n",
        "        icecream        3       3  1.559945  1.559945\n",
        "        soup            5       5  9.507143  9.507143\n"
       ]
      }
     ],
     "prompt_number": 6
    },
    {
     "cell_type": "code",
     "collapsed": false,
     "input": [
      "print \"df :3\\n\", df[:3]"
     ],
     "language": "python",
     "metadata": {},
     "outputs": [
      {
       "output_type": "stream",
       "stream": "stdout",
       "text": [
        "df :3\n",
        "       Food  Number     Price Weather\n",
        "0      soup       8  3.745401    cold\n",
        "1      soup       5  9.507143     hot\n",
        "2  icecream       4  7.319939    cold\n"
       ]
      }
     ],
     "prompt_number": 7
    },
    {
     "cell_type": "code",
     "collapsed": false,
     "input": [
      "print \"Concat Back together\\n\", pd.concat([df[:3], df[3:]])"
     ],
     "language": "python",
     "metadata": {},
     "outputs": [
      {
       "output_type": "stream",
       "stream": "stdout",
       "text": [
        "Concat Back together\n",
        "        Food  Number     Price Weather\n",
        "0       soup       8  3.745401    cold\n",
        "1       soup       5  9.507143     hot\n",
        "2   icecream       4  7.319939    cold\n",
        "3  chocolate       8  5.986585     hot\n",
        "4   icecream       8  1.560186    cold\n",
        "5   icecream       3  1.559945     hot\n",
        "6       soup       6  0.580836    cold\n"
       ]
      }
     ],
     "prompt_number": 9
    },
    {
     "cell_type": "code",
     "collapsed": false,
     "input": [],
     "language": "python",
     "metadata": {},
     "outputs": []
    },
    {
     "cell_type": "code",
     "collapsed": false,
     "input": [],
     "language": "python",
     "metadata": {},
     "outputs": []
    },
    {
     "cell_type": "code",
     "collapsed": false,
     "input": [],
     "language": "python",
     "metadata": {},
     "outputs": []
    }
   ],
   "metadata": {}
  }
 ]
}