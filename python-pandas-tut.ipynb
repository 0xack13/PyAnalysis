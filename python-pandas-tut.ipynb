{
 "metadata": {
  "name": "",
  "signature": "sha256:9c1d7a8bdad63f77d4b94044477431e6f750a54f006d1ed77baa3b1134d8d71d"
 },
 "nbformat": 3,
 "nbformat_minor": 0,
 "worksheets": [
  {
   "cells": [
    {
     "cell_type": "code",
     "collapsed": false,
     "input": [
      "import pandas as pd\n",
      "from numpy.random import seed\n",
      "from numpy.random import rand\n",
      "from numpy.random import random_integers\n",
      "import numpy as np\n",
      "\n",
      "seed(42)\n",
      "\n",
      "df = pd.DataFrame({'Weather' : ['cold', 'hot', 'cold', 'hot',\n",
      "   'cold', 'hot', 'cold'],\n",
      "   'Food' : ['soup', 'soup', 'icecream', 'chocolate',\n",
      "   'icecream', 'icecream', 'soup'],\n",
      "   'Price' : 10 * rand(7), 'Number' : random_integers(1, 9, size=(7,))})\n",
      "\n",
      "print df"
     ],
     "language": "python",
     "metadata": {},
     "outputs": [
      {
       "output_type": "stream",
       "stream": "stdout",
       "text": [
        "        Food  Number     Price Weather\n",
        "0       soup       8  3.745401    cold\n",
        "1       soup       5  9.507143     hot\n",
        "2   icecream       4  7.319939    cold\n",
        "3  chocolate       8  5.986585     hot\n",
        "4   icecream       8  1.560186    cold\n",
        "5   icecream       3  1.559945     hot\n",
        "6       soup       6  0.580836    cold\n"
       ]
      }
     ],
     "prompt_number": 2
    },
    {
     "cell_type": "code",
     "collapsed": false,
     "input": [],
     "language": "python",
     "metadata": {},
     "outputs": []
    },
    {
     "cell_type": "code",
     "collapsed": false,
     "input": [],
     "language": "python",
     "metadata": {},
     "outputs": []
    }
   ],
   "metadata": {}
  }
 ]
}